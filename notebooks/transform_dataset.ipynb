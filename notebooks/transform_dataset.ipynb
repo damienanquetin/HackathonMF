{
 "cells": [
  {
   "cell_type": "code",
   "execution_count": 15,
   "id": "306a9cbf",
   "metadata": {},
   "outputs": [],
   "source": [
    "from datetime import datetime\n",
    "import pandas as pd\n",
    "\n",
    "X_station_train_df = pd.read_csv(\"../../Hackathon/Train/X_station_train.csv\", index_col=[\"Id\"])"
   ]
  },
  {
   "cell_type": "code",
   "execution_count": 16,
   "id": "064fe762",
   "metadata": {},
   "outputs": [],
   "source": [
    "def transform_station(df):\n",
    "    \n",
    "    def year(row):\n",
    "        _dtime = row['dtime']\n",
    "        return _dtime.year\n",
    "\n",
    "    def month(row):\n",
    "        _dtime = row['dtime']\n",
    "        return _dtime.month\n",
    "    \n",
    "    def day(row):\n",
    "        _dtime = row['dtime']\n",
    "        return _dtime.day\n",
    "\n",
    "    def hour(row):\n",
    "        _dtime = row['dtime']\n",
    "        return _dtime.hour\n",
    "\n",
    "    df['dtime'] = pd.to_datetime(df['date'], format='%Y-%m-%d %H:%M:%S')\n",
    "    df['year'] = df.apply(lambda row: year(row), axis = 1)\n",
    "    df['month'] = df.apply(lambda row: month(row), axis = 1)\n",
    "    df['day'] = df.apply(lambda row: day(row), axis = 1)\n",
    "    df['hour'] = df.apply(lambda row: hour(row), axis = 1)\n",
    "    \n",
    "    return df"
   ]
  },
  {
   "cell_type": "code",
   "execution_count": 17,
   "id": "924ef652",
   "metadata": {},
   "outputs": [],
   "source": [
    "X_station_train_df = transform_station(X_station_train_df)"
   ]
  },
  {
   "cell_type": "code",
   "execution_count": 18,
   "id": "1cc8b412",
   "metadata": {},
   "outputs": [
    {
     "data": {
      "text/html": [
       "<div>\n",
       "<style scoped>\n",
       "    .dataframe tbody tr th:only-of-type {\n",
       "        vertical-align: middle;\n",
       "    }\n",
       "\n",
       "    .dataframe tbody tr th {\n",
       "        vertical-align: top;\n",
       "    }\n",
       "\n",
       "    .dataframe thead th {\n",
       "        text-align: right;\n",
       "    }\n",
       "</style>\n",
       "<table border=\"1\" class=\"dataframe\">\n",
       "  <thead>\n",
       "    <tr style=\"text-align: right;\">\n",
       "      <th></th>\n",
       "      <th>number_sta</th>\n",
       "      <th>date</th>\n",
       "      <th>ff</th>\n",
       "      <th>t</th>\n",
       "      <th>td</th>\n",
       "      <th>hu</th>\n",
       "      <th>dd</th>\n",
       "      <th>precip</th>\n",
       "      <th>dtime</th>\n",
       "      <th>year</th>\n",
       "      <th>month</th>\n",
       "      <th>day</th>\n",
       "      <th>hour</th>\n",
       "    </tr>\n",
       "    <tr>\n",
       "      <th>Id</th>\n",
       "      <th></th>\n",
       "      <th></th>\n",
       "      <th></th>\n",
       "      <th></th>\n",
       "      <th></th>\n",
       "      <th></th>\n",
       "      <th></th>\n",
       "      <th></th>\n",
       "      <th></th>\n",
       "      <th></th>\n",
       "      <th></th>\n",
       "      <th></th>\n",
       "      <th></th>\n",
       "    </tr>\n",
       "  </thead>\n",
       "  <tbody>\n",
       "    <tr>\n",
       "      <th>14066001_0_0</th>\n",
       "      <td>14066001</td>\n",
       "      <td>2016-01-01 00:00:00</td>\n",
       "      <td>3.05</td>\n",
       "      <td>279.28</td>\n",
       "      <td>277.97</td>\n",
       "      <td>91.4</td>\n",
       "      <td>200.0</td>\n",
       "      <td>0.0</td>\n",
       "      <td>2016-01-01 00:00:00</td>\n",
       "      <td>2016</td>\n",
       "      <td>1</td>\n",
       "      <td>1</td>\n",
       "      <td>0</td>\n",
       "    </tr>\n",
       "    <tr>\n",
       "      <th>14066001_0_1</th>\n",
       "      <td>14066001</td>\n",
       "      <td>2016-01-01 01:00:00</td>\n",
       "      <td>2.57</td>\n",
       "      <td>278.76</td>\n",
       "      <td>277.45</td>\n",
       "      <td>91.4</td>\n",
       "      <td>190.0</td>\n",
       "      <td>0.0</td>\n",
       "      <td>2016-01-01 01:00:00</td>\n",
       "      <td>2016</td>\n",
       "      <td>1</td>\n",
       "      <td>1</td>\n",
       "      <td>1</td>\n",
       "    </tr>\n",
       "    <tr>\n",
       "      <th>14066001_0_2</th>\n",
       "      <td>14066001</td>\n",
       "      <td>2016-01-01 02:00:00</td>\n",
       "      <td>2.26</td>\n",
       "      <td>278.27</td>\n",
       "      <td>277.02</td>\n",
       "      <td>91.7</td>\n",
       "      <td>181.0</td>\n",
       "      <td>0.0</td>\n",
       "      <td>2016-01-01 02:00:00</td>\n",
       "      <td>2016</td>\n",
       "      <td>1</td>\n",
       "      <td>1</td>\n",
       "      <td>2</td>\n",
       "    </tr>\n",
       "    <tr>\n",
       "      <th>14066001_0_3</th>\n",
       "      <td>14066001</td>\n",
       "      <td>2016-01-01 03:00:00</td>\n",
       "      <td>2.62</td>\n",
       "      <td>277.98</td>\n",
       "      <td>276.95</td>\n",
       "      <td>93.0</td>\n",
       "      <td>159.0</td>\n",
       "      <td>0.0</td>\n",
       "      <td>2016-01-01 03:00:00</td>\n",
       "      <td>2016</td>\n",
       "      <td>1</td>\n",
       "      <td>1</td>\n",
       "      <td>3</td>\n",
       "    </tr>\n",
       "    <tr>\n",
       "      <th>14066001_0_4</th>\n",
       "      <td>14066001</td>\n",
       "      <td>2016-01-01 04:00:00</td>\n",
       "      <td>2.99</td>\n",
       "      <td>277.32</td>\n",
       "      <td>276.72</td>\n",
       "      <td>95.9</td>\n",
       "      <td>171.0</td>\n",
       "      <td>0.0</td>\n",
       "      <td>2016-01-01 04:00:00</td>\n",
       "      <td>2016</td>\n",
       "      <td>1</td>\n",
       "      <td>1</td>\n",
       "      <td>4</td>\n",
       "    </tr>\n",
       "  </tbody>\n",
       "</table>\n",
       "</div>"
      ],
      "text/plain": [
       "              number_sta                 date    ff       t      td    hu  \\\n",
       "Id                                                                          \n",
       "14066001_0_0    14066001  2016-01-01 00:00:00  3.05  279.28  277.97  91.4   \n",
       "14066001_0_1    14066001  2016-01-01 01:00:00  2.57  278.76  277.45  91.4   \n",
       "14066001_0_2    14066001  2016-01-01 02:00:00  2.26  278.27  277.02  91.7   \n",
       "14066001_0_3    14066001  2016-01-01 03:00:00  2.62  277.98  276.95  93.0   \n",
       "14066001_0_4    14066001  2016-01-01 04:00:00  2.99  277.32  276.72  95.9   \n",
       "\n",
       "                 dd  precip               dtime  year  month  day  hour  \n",
       "Id                                                                       \n",
       "14066001_0_0  200.0     0.0 2016-01-01 00:00:00  2016      1    1     0  \n",
       "14066001_0_1  190.0     0.0 2016-01-01 01:00:00  2016      1    1     1  \n",
       "14066001_0_2  181.0     0.0 2016-01-01 02:00:00  2016      1    1     2  \n",
       "14066001_0_3  159.0     0.0 2016-01-01 03:00:00  2016      1    1     3  \n",
       "14066001_0_4  171.0     0.0 2016-01-01 04:00:00  2016      1    1     4  "
      ]
     },
     "execution_count": 18,
     "metadata": {},
     "output_type": "execute_result"
    }
   ],
   "source": [
    "X_station_train_df.head()"
   ]
  },
  {
   "cell_type": "code",
   "execution_count": 51,
   "id": "d143a3b1",
   "metadata": {},
   "outputs": [],
   "source": [
    "station_df = X_station_train_df[X_station_train_df['number_sta']==14066001]\n",
    "\n",
    "def precip(month,day):\n",
    "    station_14066001_ex = station_df[station_df['year']==2016][station_df['month']==month][station_df['day']==day]\n",
    "    return station_14066001_ex['precip'].values"
   ]
  },
  {
   "cell_type": "code",
   "execution_count": 55,
   "id": "cfac4ab2",
   "metadata": {},
   "outputs": [],
   "source": [
    "import matplotlib.pyplot as plt\n",
    "import numpy as np"
   ]
  },
  {
   "cell_type": "code",
   "execution_count": 79,
   "id": "94cba7b2",
   "metadata": {},
   "outputs": [
    {
     "name": "stderr",
     "output_type": "stream",
     "text": [
      "/tmp/ipykernel_27773/1030383031.py:4: UserWarning: Boolean Series key will be reindexed to match DataFrame index.\n",
      "  station_14066001_ex = station_df[station_df['year']==2016][station_df['month']==month][station_df['day']==day]\n"
     ]
    },
    {
     "data": {
      "image/png": "[encoded data removed]",
      "text/plain": [
       "<Figure size 640x480 with 1 Axes>"
      ]
     },
     "metadata": {},
     "output_type": "display_data"
    }
   ],
   "source": [
    "for i in range(25,30):\n",
    "    p = precip(3,i)\n",
    "    plt.plot(np.arange(24),p, label=i)\n",
    "    plt.legend()"
   ]
  },
  {
   "cell_type": "code",
   "execution_count": 85,
   "id": "c7cc469c",
   "metadata": {},
   "outputs": [
    {
     "name": "stderr",
     "output_type": "stream",
     "text": [
      "/tmp/ipykernel_27773/1030383031.py:4: UserWarning: Boolean Series key will be reindexed to match DataFrame index.\n",
      "  station_14066001_ex = station_df[station_df['year']==2016][station_df['month']==month][station_df['day']==day]\n",
      "No artists with labels found to put in legend.  Note that artists whose label start with an underscore are ignored when legend() is called with no argument.\n"
     ]
    },
    {
     "data": {
      "text/plain": [
       "<matplotlib.legend.Legend at 0x7f1e7ef5afa0>"
      ]
     },
     "execution_count": 85,
     "metadata": {},
     "output_type": "execute_result"
    },
    {
     "data": {
      "image/png": "[encoded data removed]",
      "text/plain": [
       "<Figure size 640x480 with 1 Axes>"
      ]
     },
     "metadata": {},
     "output_type": "display_data"
    }
   ],
   "source": [
    "L = []\n",
    "for i in range(25,30):\n",
    "    p = precip(3,i)\n",
    "    for j in p:\n",
    "        L.append(j)\n",
    "\n",
    "plt.plot(np.arange(len(L)),L)\n",
    "plt.legend()"
   ]
  },
  {
   "cell_type": "code",
   "execution_count": null,
   "id": "785ebf88",
   "metadata": {},
   "outputs": [],
   "source": []
  }
 ],
 "metadata": {
  "kernelspec": {
   "display_name": "Python 3 (ipykernel)",
   "language": "python",
   "name": "python3"
  },
  "language_info": {
   "codemirror_mode": {
    "name": "ipython",
    "version": 3
   },
   "file_extension": ".py",
   "mimetype": "text/x-python",
   "name": "python",
   "nbconvert_exporter": "python",
   "pygments_lexer": "ipython3",
   "version": "3.8.10"
  }
 },
 "nbformat": 4,
 "nbformat_minor": 5
}
